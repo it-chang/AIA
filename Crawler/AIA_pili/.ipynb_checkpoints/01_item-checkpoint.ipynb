{
 "cells": [
  {
   "cell_type": "code",
   "execution_count": 1,
   "metadata": {},
   "outputs": [],
   "source": [
    "import csv\n",
    "import pandas as pd\n",
    "import requests\n",
    "from bs4 import BeautifulSoup\n"
   ]
  },
  {
   "cell_type": "raw",
   "metadata": {},
   "source": []
  },
  {
   "cell_type": "code",
   "execution_count": 2,
   "metadata": {},
   "outputs": [],
   "source": [
    "url='https://drama.pili.com.tw/wallpaper/index.php?dsubtype=%E9%9C%B9%E9%9D%82%E7%B3%BB%E5%88%97&searchby=&keyword=&pagenum=1'\n",
    "addrl='https://drama.pili.com.tw'"
   ]
  },
  {
   "cell_type": "code",
   "execution_count": 3,
   "metadata": {},
   "outputs": [],
   "source": [
    "r = requests.get(url) \n",
    "soup = BeautifulSoup(r.text,\"html.parser\") \n",
    "status=r.status_code\n"
   ]
  },
  {
   "cell_type": "code",
   "execution_count": 4,
   "metadata": {},
   "outputs": [
    {
     "data": {
      "text/plain": [
       "'pw01687.jpg'"
      ]
     },
     "execution_count": 4,
     "metadata": {},
     "output_type": "execute_result"
    }
   ],
   "source": [
    "soup.find_all(\"a\", class_=\"fancybox\")[0]['href'].split(\"/\")[-1]"
   ]
  },
  {
   "cell_type": "code",
   "execution_count": 8,
   "metadata": {},
   "outputs": [],
   "source": [
    "a=addrl+soup.find_all(\"a\", class_=\"fancybox\")[0]['href']\n",
    "imgname=soup.find_all(\"a\", class_=\"fancybox\")[0]['href'].split(\"/\")[-1]\n",
    "\n",
    "a\n",
    "\n",
    "imgname\n",
    "\n",
    "import urllib.request\n",
    "\n",
    "urllib.request.urlretrieve(a, imgname)"
   ]
  },
  {
   "cell_type": "code",
   "execution_count": null,
   "metadata": {},
   "outputs": [],
   "source": []
  },
  {
   "cell_type": "code",
   "execution_count": null,
   "metadata": {},
   "outputs": [],
   "source": []
  },
  {
   "cell_type": "raw",
   "metadata": {},
   "source": [
    "def new_file():\n",
    "    with open('data.csv', 'w', newline='') as csvfile:\n",
    "        writer = csv.writer(csvfile)\n",
    "        writer.writerow(['airbnbId','title', 'star','price','url'])   "
   ]
  },
  {
   "cell_type": "raw",
   "metadata": {},
   "source": [
    "if os.path.isfile('data.csv'):\n",
    "    print(\"檔案存在。\")\n",
    "else:\n",
    "    new_file()\n",
    "    print(\"已建立\")"
   ]
  },
  {
   "cell_type": "code",
   "execution_count": 3,
   "metadata": {},
   "outputs": [],
   "source": [
    "def save(room):\n",
    "    data=room.select('div')[0]\n",
    "    aa=data\n",
    "    airbnbId=data.select('a')[0]['target']\n",
    "    title=''\n",
    "    if(len(data.find_all('div' ,class_=\"_y89bwt\"))>=1 ):\n",
    "        title=data.find_all('div' ,class_=\"_y89bwt\")[0]['aria-label']\n",
    "    elif (len(data.select('a'))>=1):\n",
    "        title=data.select('a')[0]['aria-label']\n",
    "    star=data.find_all(\"span\", class_=\"_ky9opu0\")[0].text\n",
    "    price=data.find_all(\"div\", class_=\"_o60r27k\")[0].find_all(\"span\",class_=\"_1p7iugi\")[0].text.replace(\"價格\",\"\")\n",
    "    url=roomirl+airbnbId.replace('listing_','')\n",
    "    if( list(set(pd.read_csv('data.csv').airbnbId.values)).count(airbnbId)==0):\n",
    "        with open('data.csv', 'a', newline='') as csvfile:\n",
    "            writer = csv.writer(csvfile)\n",
    "            writer.writerow([airbnbId,title,star, price,url])     \n",
    "    return 'a'"
   ]
  },
  {
   "cell_type": "code",
   "execution_count": 4,
   "metadata": {},
   "outputs": [],
   "source": [
    "def get_airbnb_tw (url):  \n",
    "    r = requests.get(url) \n",
    "    soup = BeautifulSoup(r.text,\"html.parser\") \n",
    "    status=r.status_code\n",
    "    for eachitem in soup.find_all(\"div\", class_=\"_gig1e7\"):     \n",
    "        for room in eachitem:\n",
    "            if(room!=''):\n",
    "                save(room)\n",
    "    return 'done'\n",
    "            "
   ]
  },
  {
   "cell_type": "code",
   "execution_count": 5,
   "metadata": {},
   "outputs": [],
   "source": [
    "\n",
    "for i in range(2,4): \n",
    "    da=str(i+i*17)\n",
    "    get_airbnb_tw(url+da)\n",
    "    \n"
   ]
  },
  {
   "cell_type": "code",
   "execution_count": null,
   "metadata": {},
   "outputs": [],
   "source": []
  }
 ],
 "metadata": {
  "kernelspec": {
   "display_name": "Python 3",
   "language": "python",
   "name": "python3"
  },
  "language_info": {
   "codemirror_mode": {
    "name": "ipython",
    "version": 3
   },
   "file_extension": ".py",
   "mimetype": "text/x-python",
   "name": "python",
   "nbconvert_exporter": "python",
   "pygments_lexer": "ipython3",
   "version": "3.6.6"
  }
 },
 "nbformat": 4,
 "nbformat_minor": 2
}
