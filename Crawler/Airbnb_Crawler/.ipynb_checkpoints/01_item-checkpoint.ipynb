{
 "cells": [
  {
   "cell_type": "code",
   "execution_count": 1,
   "metadata": {},
   "outputs": [],
   "source": [
    "import csv\n",
    "import pandas as pd\n",
    "import requests\n",
    "from bs4 import BeautifulSoup\n",
    "def new_file():\n",
    "    with open('data.csv', 'w', newline='') as csvfile:\n",
    "        writer = csv.writer(csvfile)\n",
    "        writer.writerow(['airbnbId','title', 'star','price','url'])   "
   ]
  },
  {
   "cell_type": "code",
   "execution_count": 2,
   "metadata": {},
   "outputs": [],
   "source": [
    "url='https://www.airbnb.com.tw/s/台南/homes?refinement_paths%5B%5D=%2Fhomes&current_tab_id=all_tab&selected_tab_id=all_tab&source=mc_search_bar&search_type=pagination&screen_size=medium&hide_dates_and_guests_filters=false&place_id=ChIJE_4_lcx8bjQRTnbcpapMf9Q&s_tag=bjdYwYlE&section_offset=4&items_offset=36&last_search_session_id=42171fc3-3513-4f33-ab07-c57a77049a46'\n",
    "url='https://www.airbnb.com.tw/s/台南/homes?refinement_paths%5B%5D=%2Ffor_you&search_type=search_query'\n",
    "url='https://www.airbnb.com.tw/s/%E5%8F%B0%E5%8D%97/homes?refinement_paths%5B%5D=%2Fhomes&current_tab_id=all_tab&selected_tab_id=all_tab&search_type=pagination&screen_size=large&hide_dates_and_guests_filters=false&place_id=ChIJE_4_lcx8bjQRTnbcpapMf9Q&map_toggle=true&s_tag=8pzofgPE&section_offset=4&items_offset='\n",
    "roomirl='https://www.airbnb.com.tw/rooms/'\n",
    "aa=\"\""
   ]
  },
  {
   "cell_type": "code",
   "execution_count": null,
   "metadata": {},
   "outputs": [],
   "source": [
    "if os.path.isfile('data.csv'):\n",
    "    print(\"檔案存在。\")\n",
    "else:\n",
    "    new_file()\n",
    "    print(\"已建立\")"
   ]
  },
  {
   "cell_type": "code",
   "execution_count": 3,
   "metadata": {},
   "outputs": [],
   "source": [
    "def save(room):\n",
    "    data=room.select('div')[0]\n",
    "    aa=data\n",
    "    airbnbId=data.select('a')[0]['target']\n",
    "    title=''\n",
    "    if(len(data.find_all('div' ,class_=\"_y89bwt\"))>=1 ):\n",
    "        title=data.find_all('div' ,class_=\"_y89bwt\")[0]['aria-label']\n",
    "    elif (len(data.select('a'))>=1):\n",
    "        title=data.select('a')[0]['aria-label']\n",
    "    star=data.find_all(\"span\", class_=\"_ky9opu0\")[0].text\n",
    "    price=data.find_all(\"div\", class_=\"_o60r27k\")[0].find_all(\"span\",class_=\"_1p7iugi\")[0].text.replace(\"價格\",\"\")\n",
    "    url=roomirl+airbnbId.replace('listing_','')\n",
    "    if( list(set(pd.read_csv('data.csv').airbnbId.values)).count(airbnbId)==0):\n",
    "        with open('data.csv', 'a', newline='') as csvfile:\n",
    "            writer = csv.writer(csvfile)\n",
    "            writer.writerow([airbnbId,title,star, price,url])     \n",
    "    return 'a'"
   ]
  },
  {
   "cell_type": "code",
   "execution_count": 4,
   "metadata": {},
   "outputs": [],
   "source": [
    "def get_airbnb_tw (url):  \n",
    "    r = requests.get(url) \n",
    "    soup = BeautifulSoup(r.text,\"html.parser\") \n",
    "    status=r.status_code\n",
    "    for eachitem in soup.find_all(\"div\", class_=\"_gig1e7\"):     \n",
    "        for room in eachitem:\n",
    "            if(room!=''):\n",
    "                save(room)\n",
    "    return 'done'\n",
    "            "
   ]
  },
  {
   "cell_type": "code",
   "execution_count": 5,
   "metadata": {},
   "outputs": [],
   "source": [
    "\n",
    "for i in range(2,4): \n",
    "    da=str(i+i*17)\n",
    "    get_airbnb_tw(url+da)\n",
    "    \n"
   ]
  },
  {
   "cell_type": "code",
   "execution_count": null,
   "metadata": {},
   "outputs": [],
   "source": []
  }
 ],
 "metadata": {
  "kernelspec": {
   "display_name": "Python 3",
   "language": "python",
   "name": "python3"
  },
  "language_info": {
   "codemirror_mode": {
    "name": "ipython",
    "version": 3
   },
   "file_extension": ".py",
   "mimetype": "text/x-python",
   "name": "python",
   "nbconvert_exporter": "python",
   "pygments_lexer": "ipython3",
   "version": "3.6.6"
  }
 },
 "nbformat": 4,
 "nbformat_minor": 2
}
