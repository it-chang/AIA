{
 "cells": [
  {
   "cell_type": "code",
   "execution_count": 1,
   "metadata": {},
   "outputs": [],
   "source": [
    "#  如何 爬javascript   ref :   https://www.zhihu.com/question/27734572\n",
    "#  如何 爬Ajax         ref :   https://ithelp.ithome.com.tw/articles/10193755\n",
    "#  如何 解對方不給爬    ref :   https://blog.csdn.net/eric_sunah/article/details/11301873"
   ]
  },
  {
   "cell_type": "code",
   "execution_count": 2,
   "metadata": {},
   "outputs": [],
   "source": [
    "import pandas as pd\n",
    "import csv\n",
    "import requests\n",
    "import sys, json\n",
    "import urllib.request as ur\n",
    "import os\n",
    "from bs4 import BeautifulSoup\n",
    "def new_file():\n",
    "    with open('date.csv', 'w', newline='') as csvfile:\n",
    "        writer = csv.writer(csvfile)\n",
    "        writer.writerow(['airbnbId','date','empty'])   "
   ]
  },
  {
   "cell_type": "code",
   "execution_count": 3,
   "metadata": {},
   "outputs": [
    {
     "name": "stdout",
     "output_type": "stream",
     "text": [
      "已建立\n"
     ]
    }
   ],
   "source": [
    "if os.path.isfile('date.csv'):\n",
    "    print(\"檔案存在。\")\n",
    "else:\n",
    "    new_file()\n",
    "    print(\"已建立\")"
   ]
  },
  {
   "cell_type": "code",
   "execution_count": 4,
   "metadata": {},
   "outputs": [],
   "source": [
    "url_array=pd.read_csv('data.csv').airbnbId.values\n",
    "url='https://www.airbnb.com.tw/api/v2/homes_pdp_availability_calendar?currency=TWD&key=d306zoyjsyarp7ifhu67rjxn52tv0t20&locale=zh-TW&month=11&year=2019&count=12&listing_id='\n",
    "#url='https://www.airbnb.com.tw/api/v2/homes_pdp_availability_calendar?currency=TWD&key=d306zoyjsyarp7ifhu67rjxn52tv0t20&locale=zh-TW&listing_id=8597304&month=11&year=2019&count=12'"
   ]
  },
  {
   "cell_type": "code",
   "execution_count": 5,
   "metadata": {},
   "outputs": [],
   "source": [
    "def ajax_crawler(url,pp):\n",
    "    headers = {'User-Agent': 'Mozilla/5.0 (Windows NT 10.0; WOW64) AppleWebKit/537.36 (KHTML, like Gecko) Chrome/55.0.2883.75 Safari/537.36'}\n",
    "    url=url+pp\n",
    "    result = ur.Request(url=url, headers=headers)\n",
    "    resultJson=  ur.urlopen(result).read()\n",
    "    resultJson = json.loads(resultJson)\n",
    "    resultJsonClean=resultJson['calendar_months']\n",
    "    for item in resultJsonClean:\n",
    "        for days in item['days']:\n",
    "            if(days['available']==True):\n",
    "                date=days['date']\n",
    "                empty=days['available']\n",
    "                airbnbId='listing_'+pp\n",
    "                with open('date.csv', 'a', newline='') as csvfile:\n",
    "                    writer = csv.writer(csvfile)\n",
    "                    writer.writerow([airbnbId,date,empty])  \n",
    "                \n",
    "    return 'done'"
   ]
  },
  {
   "cell_type": "code",
   "execution_count": 7,
   "metadata": {},
   "outputs": [],
   "source": [
    "\n",
    "for i in url_array:\n",
    "    pp=i.replace('listing_','')\n",
    "    ajax_crawler(url,pp)\n",
    "    break   #<=== 一個就有好多筆資料 我先看一筆  這個砍掉就全抓"
   ]
  }
 ],
 "metadata": {
  "kernelspec": {
   "display_name": "Python 3",
   "language": "python",
   "name": "python3"
  },
  "language_info": {
   "codemirror_mode": {
    "name": "ipython",
    "version": 3
   },
   "file_extension": ".py",
   "mimetype": "text/x-python",
   "name": "python",
   "nbconvert_exporter": "python",
   "pygments_lexer": "ipython3",
   "version": "3.6.6"
  }
 },
 "nbformat": 4,
 "nbformat_minor": 2
}
