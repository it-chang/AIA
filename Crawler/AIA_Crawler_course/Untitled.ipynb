{
 "cells": [
  {
   "cell_type": "code",
   "execution_count": 15,
   "metadata": {},
   "outputs": [],
   "source": [
    "\n",
    "from bs4 import BeautifulSoup\n"
   ]
  },
  {
   "cell_type": "code",
   "execution_count": 16,
   "metadata": {},
   "outputs": [],
   "source": [
    "import csv\n",
    "with open('dummy.csv', 'w', newline='',encoding='utf-8') as csvfile:\n",
    "#with open('dummy.csv', 'w', newline='') as csvfile:\n",
    "    writer = csv.writer(csvfile)\n",
    "    writer.writerow(['title','subtitle','url'])\n",
    "\n",
    "  "
   ]
  },
  {
   "cell_type": "markdown",
   "metadata": {},
   "source": [
    "\n",
    "import urllib2\n",
    "opener = urllib2.build_opener()\n",
    "opener.addheaders.append(('Cookie', 'cookiename=cookievalue'))\n",
    "f = opener.open(\"https://class.aiacademy.tw/calendar-et082/\")\n",
    "import urllib2opener = urllib2.build_opener()opener.addheaders.append(('Cookie', 'cookiename=cookievalue'))f = opener.open(\"http://example.com/\")"
   ]
  },
  {
   "cell_type": "code",
   "execution_count": 17,
   "metadata": {},
   "outputs": [],
   "source": [
    "#  參考文章\n",
    "# https://kknews.cc/zh-tw/tech/b2qpqao.html   如何使用 on python\n",
    "# https://www.itread01.com/p/439916.html      如何使用 on python\n",
    "# http://www.vixual.net/blog/archives/12     如何找  cookie \n",
    "import requests\n",
    "url='https://class.aiacademy.tw/calendar-et082/'\n",
    "session =requests.session()\n",
    "cookie={\n",
    "    'Cookie':'openid_login_cookie=9541e953b311f54a7b8ca3b72987feae; ajs_user_id=null; ajs_group_id=null; ajs_anonymous_id=%2200000000000000000000000000%22; PHPSESSID=34e559b449e9e2f5eb26c76d8e65811f; openid_login_cookie=9541e953b311f54a7b8ca3b72987feae'\n",
    "}\n",
    "html=session.get(url,cookies=cookie)\n",
    "#print(html.text)\n",
    "soup = BeautifulSoup(html.text,\"html.parser\") "
   ]
  },
  {
   "cell_type": "code",
   "execution_count": 18,
   "metadata": {},
   "outputs": [],
   "source": [
    "for link in soup.select('td.haswkplace'):\n",
    "    a=\"\"\n",
    "    b=\"\"\n",
    "    c=\"\"\n",
    "   \n",
    "    for row in link.select('div.wkcourse') :\n",
    "        a=row.text\n",
    "        \n",
    "    for row in link.select('div.wksubcourse') :\n",
    "        if(len(row)>0):\n",
    "            b=row.text  \n",
    "        else:\n",
    "            b=\"\"\n",
    "    for row in link.select('div a') :\n",
    "        c=row['href']\n",
    "    with open('dummy.csv', 'a', encoding='utf-8') as csvfile:\n",
    "        writer = csv.writer(csvfile)\n",
    "        writer.writerow([a,b,c])    "
   ]
  },
  {
   "cell_type": "markdown",
   "metadata": {},
   "source": [
    "#\n",
    "for link in soup.select('div.container td a'):\n",
    "   #\n",
    "   #print(link)\n",
    "    print('#=======================#')\n",
    "    print(link.text)\n",
    "    print(link['href'])\n",
    "    with open('dummy.csv', 'a', newline='') as csvfile:\n",
    "        writer = csv.writer(csvfile)\n",
    "        writer.writerow([link.text,link['href']])    \n",
    "    "
   ]
  },
  {
   "cell_type": "code",
   "execution_count": 19,
   "metadata": {},
   "outputs": [],
   "source": [
    "import pandas as pd\n",
    "data= pd.read_csv(\"dummy.csv\" )"
   ]
  },
  {
   "cell_type": "code",
   "execution_count": 20,
   "metadata": {},
   "outputs": [],
   "source": [
    "sub=data.drop_duplicates(subset=None, keep='first', inplace=False)"
   ]
  },
  {
   "cell_type": "code",
   "execution_count": 22,
   "metadata": {},
   "outputs": [],
   "source": [
    "sub.to_csv('aia_course.csv', index=False,encoding='utf_8_sig') "
   ]
  },
  {
   "cell_type": "code",
   "execution_count": null,
   "metadata": {},
   "outputs": [],
   "source": []
  },
  {
   "cell_type": "code",
   "execution_count": null,
   "metadata": {},
   "outputs": [],
   "source": []
  },
  {
   "cell_type": "code",
   "execution_count": null,
   "metadata": {},
   "outputs": [],
   "source": []
  },
  {
   "cell_type": "code",
   "execution_count": null,
   "metadata": {},
   "outputs": [],
   "source": []
  },
  {
   "cell_type": "code",
   "execution_count": null,
   "metadata": {},
   "outputs": [],
   "source": []
  },
  {
   "cell_type": "code",
   "execution_count": null,
   "metadata": {},
   "outputs": [],
   "source": []
  }
 ],
 "metadata": {
  "kernelspec": {
   "display_name": "Python 3",
   "language": "python",
   "name": "python3"
  },
  "language_info": {
   "codemirror_mode": {
    "name": "ipython",
    "version": 3
   },
   "file_extension": ".py",
   "mimetype": "text/x-python",
   "name": "python",
   "nbconvert_exporter": "python",
   "pygments_lexer": "ipython3",
   "version": "3.6.6"
  }
 },
 "nbformat": 4,
 "nbformat_minor": 2
}
