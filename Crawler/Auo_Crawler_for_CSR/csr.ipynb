{
 "cells": [
  {
   "cell_type": "code",
   "execution_count": 43,
   "metadata": {},
   "outputs": [],
   "source": [
    "import csv\n",
    "\n",
    "with open('data.csv', 'w', newline='') as csvfile:\n",
    "    writer = csv.writer(csvfile)\n",
    "    writer.writerow(['url', 'sta','title', 'title img','keywors','body','bodywithtag'])\n",
    "\n",
    "  \n"
   ]
  },
  {
   "cell_type": "code",
   "execution_count": 47,
   "metadata": {},
   "outputs": [],
   "source": [
    "import requests\n",
    "from bs4 import BeautifulSoup\n",
    "\n",
    "\n",
    "def get_csr_cw_com_tw (url):  \n",
    "    \n",
    "    r = requests.get(url) \n",
    "    soup = BeautifulSoup(r.text,\"html.parser\") \n",
    "    status=r.status_code\n",
    "    title=\"\"\n",
    "    titleimg=\"\"\n",
    "    keyword=\"\"\n",
    "    body=\"\"\n",
    "    bodywithtag=\"\"\n",
    "    if(r.status_code !=404):   \n",
    "        #print(\"url**********************\")\n",
    "        #print(url)\n",
    "        #print(\"title**********************\")\n",
    "        for t in soup.select('section.h1Box h1'):\n",
    "            title=t.text\n",
    "            #print(t.text)\n",
    "       #print(\"title img **********\")   \n",
    "        for ti in soup.select(\"div.mainImg > img\"):\n",
    "            titleimg=ti['src']\n",
    "            #print(ti['src'])\n",
    "        #print(\"keyword************************\")\n",
    "        for key in soup.select('article ul.keywordsBox li'):\n",
    "            keyword+=key.text.strip()+','\n",
    "            #print(key.text.strip())\n",
    "        #print(\"body**************************\")\n",
    "        for s in soup.select(\"article\")[0].find_all([\"p\", \"h3\",\"pre\"]):\n",
    "            #print(s.name)\n",
    "            if(len(s.find_all(\"span\") ) >0 and s.name ==\"h3\"):\n",
    "                #print('--')\n",
    "                body+=s.text\n",
    "            elif(len(s.select(\"strong\")) >0):\n",
    "                body+=''\n",
    "                #print(s.text)\n",
    "            elif(len(s.select(\"img\")) >0):\n",
    "                for ss in s.select(\"img\"):\n",
    "                    #print(ss['src'])\n",
    "                    body+=ss['src']    \n",
    "            else:\n",
    "                #print(s.text)\n",
    "                body+=s.text\n",
    "        bodywithtag=soup.select(\"article\")[0].find_all([\"p\", \"h3\",\"pre\"])\n",
    "    else:\n",
    "        print(\"404\")\n",
    "        \n",
    "    with open('data.csv', 'a', newline='') as csvfile:\n",
    "        writer = csv.writer(csvfile)\n",
    "        writer.writerow([url,status, title, titleimg,keyword,body,bodywithtag])    \n",
    "    \n",
    "    return status,url\n",
    "\n",
    "#url=\"https://csr.cw.com.tw/article/40030\"\n",
    "for i in range(40000,40051):\n",
    "    ur=\"https://csr.cw.com.tw/article/\"+str(i)\n",
    "    get_csr_cw_com_tw(ur)\n",
    "print('done')"
   ]
  },
  {
   "cell_type": "code",
   "execution_count": null,
   "metadata": {},
   "outputs": [],
   "source": [
    "import request\n"
   ]
  },
  {
   "cell_type": "code",
   "execution_count": null,
   "metadata": {},
   "outputs": [],
   "source": []
  }
 ],
 "metadata": {
  "kernelspec": {
   "display_name": "Python 3",
   "language": "python",
   "name": "python3"
  },
  "language_info": {
   "codemirror_mode": {
    "name": "ipython",
    "version": 3
   },
   "file_extension": ".py",
   "mimetype": "text/x-python",
   "name": "python",
   "nbconvert_exporter": "python",
   "pygments_lexer": "ipython3",
   "version": "3.6.6"
  }
 },
 "nbformat": 4,
 "nbformat_minor": 2
}
