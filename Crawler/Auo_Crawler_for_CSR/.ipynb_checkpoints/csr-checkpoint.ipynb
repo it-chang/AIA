{
 "cells": [
  {
   "cell_type": "code",
   "execution_count": null,
   "metadata": {},
   "outputs": [],
   "source": [
    "import csv\n",
    "\n",
    "with open('data.csv', 'w', newline='') as csvfile:\n",
    "  writer = csv.writer(csvfile)\n",
    "  writer.writerow(['url', 'title', 'title img','keywors','body'])\n",
    "  \n"
   ]
  },
  {
   "cell_type": "code",
   "execution_count": 42,
   "metadata": {},
   "outputs": [],
   "source": [
    "import requests\n",
    "from bs4 import BeautifulSoup\n"
   ]
  },
  {
   "cell_type": "code",
   "execution_count": 50,
   "metadata": {},
   "outputs": [
    {
     "name": "stdout",
     "output_type": "stream",
     "text": [
      "url**********************\n",
      "https://csr.cw.com.tw/article/40030\n",
      "title**********************\n",
      "天下CSR夏季沙龍：CSR花錢卻可以為公司加分\n",
      "title img **********\n",
      "https://cw1.tw/CW/images/article/201709/article-59ba55725b568.jpg\n",
      "keyword************************\n",
      "CSR\n",
      "四季沙龍\n",
      "信義房屋\n",
      "台灣拜耳\n",
      "body**************************\n",
      "p\n",
      "7月，CSR@天下舉辦第二場CSR沙龍，吸引近百位關心CSR的人士參與，其中不乏正被民眾放大檢視社會責任的公司。CSR與企業形象間的連結，意外成為會中火熱話題。\n",
      "----------------------------------------------------\n",
      "p\n",
      "「我們CSR同仁都覺得非常沮喪，因為我們很認真作綠化，地方回饋也做得比其他事業多，但為什麼把我們打成黑五類？」亞洲水泥公司總經理特助吳宏能，針對亞泥的挖礦爭議，無奈地說。\n",
      "----------------------------------------------------\n",
      "p\n",
      "吳宏能話才說完，就引發同桌的人熱烈討論。資誠永續副總經理蔡承璋提出建議：「其實新聞議題是突發性狀況，應回歸到產業面的風險控管，不應該跟CSR的內容扯上關係，讓負責CSR的同仁承擔壓力。」 \n",
      "----------------------------------------------------\n",
      "h3\n",
      "領導者堅持推動CSR，對公司加分\n",
      "----------------------------------------------------\n",
      "p\n",
      "這是天下CSR四季沙龍夏季場的場面。7月底在天下書香花園舉辦的活動，吸引了近百位關心CSR的人士參與。沙龍由信義房屋與台灣拜耳的分享開場，信義房屋公共事務部副總經理高治華指出，信義從2004年起，推動「社區一家行動計畫」， 13年從不間斷的關鍵在於：領導者具備CSR的理念、承辦同仁的堅持，以及全體同仁的參與。\n",
      "----------------------------------------------------\n",
      "p\n",
      "其中，最大的成功因素，是公司由上而下的一致理念。信義集團不但將「文化公益」納入七大事業群，當股東會質疑「社區一家計畫」每年花費2000萬，會影響EPS。但董事長周俊吉堅持推動，也用業績證明，與本業相關的CSR，對公司是加分。\n",
      "----------------------------------------------------\n",
      "h3\n",
      "企業核心職能是起點 也是加速器\n",
      "----------------------------------------------------\n",
      "p\n",
      "台灣拜耳企業溝通部處長黃庭郁，以自身長期推動CSR的經驗，給出四點建議：第一，CSR跟核心職能結合，才能長久。第二，永遠以服務對象的需求為優先，而不是為自己公司思考。第三，推動CSR是永續的，不論得獎與否，皆應堅持。第四，與客戶、供應商結盟，發揮一加一大於二的力量。\n",
      "----------------------------------------------------\n",
      "p\n",
      "其中，黃庭郁分享，發想CSR的第一步，從企業核心職能出發，不但可長可久，也能得到內部同仁的認同。拜耳以醫藥產品為主力，過去舉辦長達10年的科學教育競賽。2014年起，以人、動物、植物為主軸，如：到盲校種葡萄、與狗醫生合作探望血友病童，都是從企業核心職能出發，讓公司內部同仁能發揮所長，獲得參與感，就能長期持續推動。\n",
      "----------------------------------------------------\n",
      "h3\n",
      "CSR的核心精神是永續\n",
      "----------------------------------------------------\n",
      "p\n",
      "資誠永續發展服務公司董事長朱竹元，也提出三點建議。首要是在地化，做CSR應由服務對象提出需求，企業端投資人力、物力，才能符合在地需要。其次，CSR最難的是創新，可以朝擴大參與對象著手，如：信義房屋的「社區一家」在2017年新增國小師生組，鼓勵偏鄉學校參與社區營造，就是種創新。\n",
      "----------------------------------------------------\n",
      "p\n",
      "最重要的是，朱竹元提醒，CSR的核心精神是永續。推動CSR要從公司核心職能著手，結合創新元素，長時間的投入，才能有所成。\n",
      "----------------------------------------------------\n",
      "h3\n",
      "分組交流 激盪CSR新思維\n",
      "----------------------------------------------------\n",
      "p\n",
      "\n",
      "----------------------------------------------------\n",
      "p\n",
      "在分享之外，這次沙龍採取特別的分組討論方式，與會者分成六大組，以三個問題為主軸開啟交流：如何促進公司內部的CSR參與？重污染的產業如何推動CSR？如何應對員工參與有爭議性的社會運動？\n",
      "----------------------------------------------------\n",
      "p\n",
      "來自不同產業、企業的CSR從業人員，不僅分享自身經驗，也提出面臨的困境，透過眾人的集思廣益，討論可行的解決之道。在各組熱烈討論的同時，高治華、黃庭郁與朱竹元，也輪流到各組參與討論，分享他們的經驗，鼓勵推行CSR的夥伴們，不要因為挫折而放棄，而是從中獲得珍貴經驗。\n",
      "----------------------------------------------------\n",
      "p\n",
      "天下CSR夏季沙龍，提供來自不同背景的夥伴，推動CSR的交流平台。透過分享多元的CSR方式，激盪出新思維。經過熱烈的分享，讓不知如何著手的企業，從企業核心職能出發，發想CSR策略。而推動中的企業，能把CSR變有趣，讓同仁從中獲得成就感，更能促進參與，讓CSR的實踐越來越好。\n",
      "----------------------------------------------------\n",
      "h3\n",
      "--\n",
      "----------------------------------------------------\n"
     ]
    },
    {
     "data": {
      "text/plain": [
       "(200, 'https://csr.cw.com.tw/article/40030')"
      ]
     },
     "execution_count": 50,
     "metadata": {},
     "output_type": "execute_result"
    }
   ],
   "source": [
    "url=\"https://csr.cw.com.tw/article/40030\"\n",
    "get_csr_cw_com_tw(url)"
   ]
  },
  {
   "cell_type": "code",
   "execution_count": 47,
   "metadata": {},
   "outputs": [],
   "source": [
    "def get_csr_cw_com_tw (url):  \n",
    "    \n",
    "    r = requests.get(url) \n",
    "    soup = BeautifulSoup(r.text,\"html.parser\") \n",
    "    status=r.status_code\n",
    "    if(r.status_code !=404):   \n",
    "        print(\"url**********************\")\n",
    "        print(url)\n",
    "        print(\"title**********************\")\n",
    "        for title in soup.select('section.h1Box h1'):\n",
    "            print(title.text)\n",
    "        print(\"title img **********\")   \n",
    "        for titileimg in soup.select(\"div.mainImg > img\"):\n",
    "            print(titileimg['src'])\n",
    "        print(\"keyword************************\")\n",
    "        for keyword in soup.select('article ul.keywordsBox li'):\n",
    "            print(keyword.text.strip())\n",
    "        print(\"body**************************\")\n",
    "        for s in soup.select(\"article\")[0].find_all([\"p\", \"h3\",\"pre\"]):\n",
    "            print(s.name)\n",
    "            if(len(s.find_all(\"span\") ) >0 and s.name ==\"h3\"):\n",
    "                print('--')\n",
    "            elif(len(s.select(\"strong\")) >0):\n",
    "                print(s.text)\n",
    "            elif(len(s.select(\"img\")) >0):\n",
    "                for ss in s.select(\"img\"):\n",
    "                    print(ss['src'])\n",
    "            else:\n",
    "                print(s.text)\n",
    "\n",
    "            print(\"----------------------------------------------------\") \n",
    "    else:\n",
    "        print(\"404\")\n",
    "    return status,url"
   ]
  },
  {
   "cell_type": "code",
   "execution_count": null,
   "metadata": {},
   "outputs": [],
   "source": []
  },
  {
   "cell_type": "code",
   "execution_count": null,
   "metadata": {},
   "outputs": [],
   "source": []
  }
 ],
 "metadata": {
  "kernelspec": {
   "display_name": "Python 3",
   "language": "python",
   "name": "python3"
  },
  "language_info": {
   "codemirror_mode": {
    "name": "ipython",
    "version": 3
   },
   "file_extension": ".py",
   "mimetype": "text/x-python",
   "name": "python",
   "nbconvert_exporter": "python",
   "pygments_lexer": "ipython3",
   "version": "3.6.6"
  }
 },
 "nbformat": 4,
 "nbformat_minor": 2
}
